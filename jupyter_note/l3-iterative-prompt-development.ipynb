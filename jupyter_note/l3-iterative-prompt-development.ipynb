{
  "cells": [
    {
      "metadata": {},
      "id": "b97ddf3b-d921-4169-9d82-b0ee95e9eccd",
      "cell_type": "markdown",
      "source": "# Iterative Prompt Develelopment\nIn this lesson, you'll iteratively analyze and refine your prompts to generate marketing copy from a product fact sheet.\n\n## Setup"
    },
    {
      "metadata": {
        "trusted": true,
        "height": 132
      },
      "id": "2800e646",
      "cell_type": "code",
      "source": "import openai\nimport os\n\nfrom dotenv import load_dotenv, find_dotenv\n_ = load_dotenv(find_dotenv()) # read local .env file\n\nopenai.api_key  = os.getenv('OPENAI_API_KEY')",
      "execution_count": 1,
      "outputs": []
    },
    {
      "metadata": {
        "trusted": true,
        "height": 149
      },
      "id": "9fb6f2de",
      "cell_type": "code",
      "source": "def get_completion(prompt, model=\"gpt-3.5-turbo\"):\n    messages = [{\"role\": \"user\", \"content\": prompt}]\n    response = openai.ChatCompletion.create(\n        model=model,\n        messages=messages,\n        temperature=0, # this is the degree of randomness of the model's output\n    )\n    return response.choices[0].message[\"content\"]",
      "execution_count": 2,
      "outputs": []
    },
    {
      "metadata": {},
      "id": "71d1a1df-03c3-4f38-af6d-3962362f3dcd",
      "cell_type": "markdown",
      "source": "## Generate a marketing product description from a product fact sheet"
    },
    {
      "metadata": {
        "trusted": true,
        "height": 693
      },
      "id": "5be90e47",
      "cell_type": "code",
      "source": "fact_sheet_chair = \"\"\"\nOVERVIEW\n- Part of a beautiful family of mid-century inspired office furniture, \nincluding filing cabinets, desks, bookcases, meeting tables, and more.\n- Several options of shell color and base finishes.\n- Available with plastic back and front upholstery (SWC-100) \nor full upholstery (SWC-110) in 10 fabric and 6 leather options.\n- Base finish options are: stainless steel, matte black, \ngloss white, or chrome.\n- Chair is available with or without armrests.\n- Suitable for home or business settings.\n- Qualified for contract use.\n\nCONSTRUCTION\n- 5-wheel plastic coated aluminum base.\n- Pneumatic chair adjust for easy raise/lower action.\n\nDIMENSIONS\n- WIDTH 53 CM | 20.87”\n- DEPTH 51 CM | 20.08”\n- HEIGHT 80 CM | 31.50”\n- SEAT HEIGHT 44 CM | 17.32”\n- SEAT DEPTH 41 CM | 16.14”\n\nOPTIONS\n- Soft or hard-floor caster options.\n- Two choices of seat foam densities: \n medium (1.8 lb/ft3) or high (2.8 lb/ft3)\n- Armless or 8 position PU armrests \n\nMATERIALS\nSHELL BASE GLIDER\n- Cast Aluminum with modified nylon PA6/PA66 coating.\n- Shell thickness: 10 mm.\nSEAT\n- HD36 foam\n\nCOUNTRY OF ORIGIN\n- Italy\n\"\"\"",
      "execution_count": 3,
      "outputs": []
    },
    {
      "metadata": {
        "trusted": true,
        "height": 251
      },
      "id": "4f656d0c",
      "cell_type": "code",
      "source": "prompt = f\"\"\"\nYour task is to help a marketing team create a \ndescription for a retail website of a product based \non a technical fact sheet.\n\nWrite a product description based on the information \nprovided in the technical specifications delimited by \ntriple backticks.\n\nTechnical specifications: ```{fact_sheet_chair}```\n\"\"\"\nresponse = get_completion(prompt)\nprint(response)\n",
      "execution_count": 4,
      "outputs": [
        {
          "output_type": "stream",
          "text": "Introducing our stunning mid-century inspired office chair, the perfect addition to any home or business setting. Part of a beautiful family of office furniture, including filing cabinets, desks, bookcases, meeting tables, and more, this chair is available in several options of shell color and base finishes to suit your style. Choose from plastic back and front upholstery (SWC-100) or full upholstery (SWC-110) in 10 fabric and 6 leather options.\n\nThe chair is constructed with a 5-wheel plastic coated aluminum base and features a pneumatic chair adjust for easy raise/lower action. It is available with or without armrests and is qualified for contract use. The base finish options are stainless steel, matte black, gloss white, or chrome.\n\nMeasuring at a width of 53 cm, depth of 51 cm, and height of 80 cm, with a seat height of 44 cm and seat depth of 41 cm, this chair is designed for ultimate comfort. You can also choose between soft or hard-floor caster options and two choices of seat foam densities: medium (1.8 lb/ft3) or high (2.8 lb/ft3). The armrests are available in either an armless or 8 position PU option.\n\nThe materials used in the construction of this chair are of the highest quality. The shell base glider is made of cast aluminum with modified nylon PA6/PA66 coating and has a shell thickness of 10 mm. The seat is made of HD36 foam, ensuring maximum comfort and durability.\n\nThis chair is made in Italy and is the perfect combination of style and functionality. Upgrade your workspace with our mid-century inspired office chair today!\n",
          "name": "stdout"
        }
      ]
    },
    {
      "metadata": {},
      "id": "e1361d6f-6022-4b7a-8107-b2e2ff5efd32",
      "cell_type": "markdown",
      "source": "## Issue 1: The text is too long \n- Limit the number of words/sentences/characters."
    },
    {
      "metadata": {
        "trusted": true,
        "height": 285
      },
      "id": "f6129532",
      "cell_type": "code",
      "source": "prompt = f\"\"\"\nYour task is to help a marketing team create a \ndescription for a retail website of a product based \non a technical fact sheet.\n\nWrite a product description based on the information \nprovided in the technical specifications delimited by \ntriple backticks.\n\nUse at most 50 words.\n\nTechnical specifications: ```{fact_sheet_chair}```\n\"\"\"\nresponse = get_completion(prompt)\nprint(response)\n",
      "execution_count": 5,
      "outputs": [
        {
          "output_type": "stream",
          "text": "Introducing our mid-century inspired office chair, perfect for home or business settings. Available in a range of shell colors and base finishes, with or without armrests. Choose from 10 fabric and 6 leather options for full or plastic upholstery. With a 5-wheel base and pneumatic chair adjust, it's both stylish and functional. Made in Italy.\n",
          "name": "stdout"
        }
      ]
    },
    {
      "metadata": {
        "trusted": true,
        "height": 30
      },
      "id": "17f658d0",
      "cell_type": "code",
      "source": "len(response)",
      "execution_count": 6,
      "outputs": [
        {
          "output_type": "execute_result",
          "execution_count": 6,
          "data": {
            "text/plain": "344"
          },
          "metadata": {}
        }
      ]
    },
    {
      "metadata": {},
      "id": "a6de9c92-857c-4d1c-8fd1-192cf47c4763",
      "cell_type": "markdown",
      "source": "## Issue 2. Text focuses on the wrong details\n- Ask it to focus on the aspects that are relevant to the intended audience."
    },
    {
      "metadata": {
        "trusted": true,
        "height": 336
      },
      "id": "954a8a06",
      "cell_type": "code",
      "source": "prompt = f\"\"\"\nYour task is to help a marketing team create a \ndescription for a retail website of a product based \non a technical fact sheet.\n\nWrite a product description based on the information \nprovided in the technical specifications delimited by \ntriple backticks.\n\nThe description is intended for furniture retailers, \nso should be technical in nature and focus on the \nmaterials the product is constructed from.\n\nUse at most 50 words.\n\nTechnical specifications: ```{fact_sheet_chair}```\n\"\"\"\nresponse = get_completion(prompt)\nprint(response)",
      "execution_count": 7,
      "outputs": [
        {
          "output_type": "stream",
          "text": "Introducing our mid-century inspired office chair, perfect for both home and business settings. With a range of shell colors and base finishes, including stainless steel and matte black, this chair is available with or without armrests. The 5-wheel plastic coated aluminum base and pneumatic chair adjust make it easy to move and adjust to your desired height. Made with high-quality materials, including a cast aluminum shell and HD36 foam seat, this chair is built to last.\n",
          "name": "stdout"
        }
      ]
    },
    {
      "metadata": {
        "trusted": true,
        "height": 387
      },
      "id": "e9455d58",
      "cell_type": "code",
      "source": "prompt = f\"\"\"\nYour task is to help a marketing team create a \ndescription for a retail website of a product based \non a technical fact sheet.\n\nWrite a product description based on the information \nprovided in the technical specifications delimited by \ntriple backticks.\n\nThe description is intended for furniture retailers, \nso should be technical in nature and focus on the \nmaterials the product is constructed from.\n\nAt the end of the description, include every 7-character \nProduct ID in the technical specification.\n\nUse at most 50 words.\n\nTechnical specifications: ```{fact_sheet_chair}```\n\"\"\"\nresponse = get_completion(prompt)\nprint(response)",
      "execution_count": 8,
      "outputs": [
        {
          "output_type": "stream",
          "text": "Introducing our mid-century inspired office chair, perfect for home or business settings. With a range of shell colors and base finishes, and the option of plastic or full upholstery, this chair is both stylish and comfortable. Constructed with a 5-wheel plastic coated aluminum base and pneumatic chair adjust, it's also practical. Available with or without armrests and suitable for contract use. Product ID: SWC-100, SWC-110.\n",
          "name": "stdout"
        }
      ]
    },
    {
      "metadata": {},
      "id": "5be496d5-54c9-443b-8116-0b3d3d9dc560",
      "cell_type": "markdown",
      "source": "## Issue 3. Description needs a table of dimensions\n- Ask it to extract information and organize it in a table."
    },
    {
      "metadata": {
        "trusted": true,
        "height": 540
      },
      "id": "0384f1e4",
      "cell_type": "code",
      "source": "prompt = f\"\"\"\nYour task is to help a marketing team create a \ndescription for a retail website of a product based \non a technical fact sheet.\n\nWrite a product description based on the information \nprovided in the technical specifications delimited by \ntriple backticks.\n\nThe description is intended for furniture retailers, \nso should be technical in nature and focus on the \nmaterials the product is constructed from.\n\nAt the end of the description, include every 7-character \nProduct ID in the technical specification.\n\nAfter the description, include a table that gives the \nproduct's dimensions. The table should have two columns.\nIn the first column include the name of the dimension. \nIn the second column include the measurements in inches only.\n\nGive the table the title 'Product Dimensions'.\n\nFormat everything as HTML that can be used in a website. \nPlace the description in a <div> element.\n\nTechnical specifications: ```{fact_sheet_chair}```\n\"\"\"\n\nresponse = get_completion(prompt)\nprint(response)",
      "execution_count": 9,
      "outputs": [
        {
          "output_type": "stream",
          "text": "<div>\n<h2>Mid-Century Inspired Office Chair</h2>\n<p>Introducing our mid-century inspired office chair, part of a beautiful family of office furniture that includes filing cabinets, desks, bookcases, meeting tables, and more. This chair is available in several options of shell color and base finishes, allowing you to customize it to your liking. You can choose between plastic back and front upholstery or full upholstery in 10 fabric and 6 leather options. The base finish options are stainless steel, matte black, gloss white, or chrome. The chair is also available with or without armrests, making it suitable for both home and business settings. Plus, it's qualified for contract use, so you can trust its durability and quality.</p>\n<h3>Construction</h3>\n<p>The chair features a 5-wheel plastic coated aluminum base and a pneumatic chair adjust for easy raise/lower action. You can choose between soft or hard-floor caster options and two choices of seat foam densities: medium (1.8 lb/ft3) or high (2.8 lb/ft3). The chair is also available with armless or 8 position PU armrests.</p>\n<h3>Materials</h3>\n<p>The shell base glider is made of cast aluminum with modified nylon PA6/PA66 coating, and the shell thickness is 10 mm. The seat is made of HD36 foam, ensuring comfort and support.</p>\n<h3>Product Dimensions</h3>\n<table>\n  <tr>\n    <td>Width</td>\n    <td>53 cm | 20.87\"</td>\n  </tr>\n  <tr>\n    <td>Depth</td>\n    <td>51 cm | 20.08\"</td>\n  </tr>\n  <tr>\n    <td>Height</td>\n    <td>80 cm | 31.50\"</td>\n  </tr>\n  <tr>\n    <td>Seat Height</td>\n    <td>44 cm | 17.32\"</td>\n  </tr>\n  <tr>\n    <td>Seat Depth</td>\n    <td>41 cm | 16.14\"</td>\n  </tr>\n</table>\n<h3>Product ID</h3>\n<p>SWC-100, SWC-110</p>\n</div>\n",
          "name": "stdout"
        }
      ]
    },
    {
      "metadata": {},
      "id": "d681db67-6d59-40c1-a36b-4d76729a690d",
      "cell_type": "markdown",
      "source": "## Load Python libraries to view HTML"
    },
    {
      "metadata": {
        "trusted": true,
        "height": 30
      },
      "id": "73ff0052",
      "cell_type": "code",
      "source": "from IPython.display import display, HTML",
      "execution_count": 10,
      "outputs": []
    },
    {
      "metadata": {
        "trusted": true,
        "height": 30
      },
      "id": "3465ffce",
      "cell_type": "code",
      "source": "display(HTML(response))",
      "execution_count": 11,
      "outputs": [
        {
          "output_type": "display_data",
          "data": {
            "text/plain": "<IPython.core.display.HTML object>",
            "text/html": "<div>\n<h2>Mid-Century Inspired Office Chair</h2>\n<p>Introducing our mid-century inspired office chair, part of a beautiful family of office furniture that includes filing cabinets, desks, bookcases, meeting tables, and more. This chair is available in several options of shell color and base finishes, allowing you to customize it to your liking. You can choose between plastic back and front upholstery or full upholstery in 10 fabric and 6 leather options. The base finish options are stainless steel, matte black, gloss white, or chrome. The chair is also available with or without armrests, making it suitable for both home and business settings. Plus, it's qualified for contract use, so you can trust its durability and quality.</p>\n<h3>Construction</h3>\n<p>The chair features a 5-wheel plastic coated aluminum base and a pneumatic chair adjust for easy raise/lower action. You can choose between soft or hard-floor caster options and two choices of seat foam densities: medium (1.8 lb/ft3) or high (2.8 lb/ft3). The chair is also available with armless or 8 position PU armrests.</p>\n<h3>Materials</h3>\n<p>The shell base glider is made of cast aluminum with modified nylon PA6/PA66 coating, and the shell thickness is 10 mm. The seat is made of HD36 foam, ensuring comfort and support.</p>\n<h3>Product Dimensions</h3>\n<table>\n  <tr>\n    <td>Width</td>\n    <td>53 cm | 20.87\"</td>\n  </tr>\n  <tr>\n    <td>Depth</td>\n    <td>51 cm | 20.08\"</td>\n  </tr>\n  <tr>\n    <td>Height</td>\n    <td>80 cm | 31.50\"</td>\n  </tr>\n  <tr>\n    <td>Seat Height</td>\n    <td>44 cm | 17.32\"</td>\n  </tr>\n  <tr>\n    <td>Seat Depth</td>\n    <td>41 cm | 16.14\"</td>\n  </tr>\n</table>\n<h3>Product ID</h3>\n<p>SWC-100, SWC-110</p>\n</div>"
          },
          "metadata": {}
        }
      ]
    },
    {
      "metadata": {},
      "id": "8ed02a02-9e12-4f63-97bd-f52064b18666",
      "cell_type": "markdown",
      "source": "## Try experimenting on your own!"
    },
    {
      "metadata": {
        "trusted": true,
        "height": 30
      },
      "id": "dbe1f850",
      "cell_type": "code",
      "source": "",
      "execution_count": null,
      "outputs": []
    }
  ],
  "metadata": {
    "kernelspec": {
      "name": "python3",
      "display_name": "Python 3 (ipykernel)",
      "language": "python"
    },
    "language_info": {
      "name": "python",
      "version": "3.9.16",
      "mimetype": "text/x-python",
      "codemirror_mode": {
        "name": "ipython",
        "version": 3
      },
      "pygments_lexer": "ipython3",
      "nbconvert_exporter": "python",
      "file_extension": ".py"
    }
  },
  "nbformat": 4,
  "nbformat_minor": 5
}