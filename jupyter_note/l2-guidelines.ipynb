{
  "cells": [
    {
      "metadata": {},
      "id": "7ebe2e9d-685d-4ea3-ab7c-9589caaabff5",
      "cell_type": "markdown",
      "source": "# Guidelines for Prompting\nIn this lesson, you'll practice two prompting principles and their related tactics in order to write effective prompts for large language models.\n\n## Setup\n#### Load the API key and relevant Python libaries."
    },
    {
      "metadata": {},
      "id": "00bab499-9a50-4bd0-a622-1c914c6ccc29",
      "cell_type": "markdown",
      "source": "In this course, we've provided some code that loads the OpenAI API key for you."
    },
    {
      "metadata": {
        "trusted": true,
        "height": 132
      },
      "id": "6c382975",
      "cell_type": "code",
      "source": "import openai\nimport os\n\nfrom dotenv import load_dotenv, find_dotenv\n_ = load_dotenv(find_dotenv())\n\nopenai.api_key  = os.getenv('OPENAI_API_KEY')",
      "execution_count": 1,
      "outputs": []
    },
    {
      "metadata": {},
      "id": "a3acefa8-f8f1-4ef8-932e-9bcefa142666",
      "cell_type": "markdown",
      "source": "#### helper function\nThroughout this course, we will use OpenAI's `gpt-3.5-turbo` model and the [chat completions endpoint](https://platform.openai.com/docs/guides/chat). \n\nThis helper function will make it easier to use prompts and look at the generated outputs:"
    },
    {
      "metadata": {
        "trusted": true,
        "height": 149
      },
      "id": "a7dff174",
      "cell_type": "code",
      "source": "def get_completion(prompt, model=\"gpt-3.5-turbo\"):\n    messages = [{\"role\": \"user\", \"content\": prompt}]\n    response = openai.ChatCompletion.create(\n        model=model,\n        messages=messages,\n        temperature=0, # this is the degree of randomness of the model's output\n    )\n    return response.choices[0].message[\"content\"]",
      "execution_count": 2,
      "outputs": []
    },
    {
      "metadata": {},
      "id": "3b62298e-2181-4e73-bb40-77e20c655231",
      "cell_type": "markdown",
      "source": "## Prompting Principles\n- **Principle 1: Write clear and specific instructions**\n- **Principle 2: Give the model time to “think”**\n\n### Tactics\n\n#### Tactic 1: Use delimiters to clearly indicate distinct parts of the input\n- Delimiters can be anything like: ```, \"\"\", < >, `<tag> </tag>`, `:`"
    },
    {
      "metadata": {
        "trusted": true,
        "height": 336
      },
      "id": "87121316",
      "cell_type": "code",
      "source": "text = f\"\"\"\nYou should express what you want a model to do by \\ \nproviding instructions that are as clear and \\ \nspecific as you can possibly make them. \\ \nThis will guide the model towards the desired output, \\ \nand reduce the chances of receiving irrelevant \\ \nor incorrect responses. Don't confuse writing a \\ \nclear prompt with writing a short prompt. \\ \nIn many cases, longer prompts provide more clarity \\ \nand context for the model, which can lead to \\ \nmore detailed and relevant outputs.\n\"\"\"\nprompt = f\"\"\"\nSummarize the text delimited by triple backticks \\ \ninto a single sentence.\n```{text}```\n\"\"\"\nresponse = get_completion(prompt)\nprint(response)",
      "execution_count": 3,
      "outputs": [
        {
          "output_type": "stream",
          "text": "Clear and specific instructions should be provided to guide a model towards the desired output, and longer prompts can provide more clarity and context for the model, leading to more detailed and relevant outputs.\n",
          "name": "stdout"
        }
      ]
    },
    {
      "metadata": {},
      "id": "f2798f3d-7618-4ac5-a6b2-3c69c537903d",
      "cell_type": "markdown",
      "source": "#### Tactic 2: Ask for a structured output\n- JSON, HTML"
    },
    {
      "metadata": {
        "trusted": true,
        "height": 149
      },
      "id": "6b50bbbd",
      "cell_type": "code",
      "source": "prompt = f\"\"\"\nGenerate a list of three made-up book titles along \\ \nwith their authors and genres. \nProvide them in JSON format with the following keys: \nbook_id, title, author, genre.\n\"\"\"\nresponse = get_completion(prompt)\nprint(response)",
      "execution_count": 4,
      "outputs": [
        {
          "output_type": "stream",
          "text": "[\n  {\n    \"book_id\": 1,\n    \"title\": \"The Lost City of Zorath\",\n    \"author\": \"Aria Blackwood\",\n    \"genre\": \"Fantasy\"\n  },\n  {\n    \"book_id\": 2,\n    \"title\": \"The Last Hope\",\n    \"author\": \"Ethan Stone\",\n    \"genre\": \"Science Fiction\"\n  },\n  {\n    \"book_id\": 3,\n    \"title\": \"The Secret of the Blue Moon\",\n    \"author\": \"Lila Rose\",\n    \"genre\": \"Mystery\"\n  }\n]\n",
          "name": "stdout"
        }
      ]
    },
    {
      "metadata": {},
      "id": "22a71c4f-b1f1-4d67-ad5a-e49fc1e3147d",
      "cell_type": "markdown",
      "source": "#### Tactic 3: Ask the model to check whether conditions are satisfied"
    },
    {
      "metadata": {
        "trusted": true,
        "height": 506
      },
      "id": "f0ae612e",
      "cell_type": "code",
      "source": "text_1 = f\"\"\"\nMaking a cup of tea is easy! First, you need to get some \\ \nwater boiling. While that's happening, \\ \ngrab a cup and put a tea bag in it. Once the water is \\ \nhot enough, just pour it over the tea bag. \\ \nLet it sit for a bit so the tea can steep. After a \\ \nfew minutes, take out the tea bag. If you \\ \nlike, you can add some sugar or milk to taste. \\ \nAnd that's it! You've got yourself a delicious \\ \ncup of tea to enjoy.\n\"\"\"\nprompt = f\"\"\"\nYou will be provided with text delimited by triple quotes. \nIf it contains a sequence of instructions, \\ \nre-write those instructions in the following format:\n\nStep 1 - ...\nStep 2 - …\n…\nStep N - …\n\nIf the text does not contain a sequence of instructions, \\ \nthen simply write \\\"No steps provided.\\\"\n\n\\\"\\\"\\\"{text_1}\\\"\\\"\\\"\n\"\"\"\nresponse = get_completion(prompt)\nprint(\"Completion for Text 1:\")\nprint(response)",
      "execution_count": 5,
      "outputs": [
        {
          "output_type": "stream",
          "text": "Completion for Text 1:\nStep 1 - Get some water boiling.\nStep 2 - Grab a cup and put a tea bag in it.\nStep 3 - Once the water is hot enough, pour it over the tea bag.\nStep 4 - Let it sit for a bit so the tea can steep.\nStep 5 - After a few minutes, take out the tea bag.\nStep 6 - Add some sugar or milk to taste.\nStep 7 - Enjoy your delicious cup of tea!\n",
          "name": "stdout"
        }
      ]
    },
    {
      "metadata": {
        "trusted": true,
        "height": 506
      },
      "id": "76b6cc59",
      "cell_type": "code",
      "source": "text_2 = f\"\"\"\nThe sun is shining brightly today, and the birds are \\\nsinging. It's a beautiful day to go for a \\ \nwalk in the park. The flowers are blooming, and the \\ \ntrees are swaying gently in the breeze. People \\ \nare out and about, enjoying the lovely weather. \\ \nSome are having picnics, while others are playing \\ \ngames or simply relaxing on the grass. It's a \\ \nperfect day to spend time outdoors and appreciate the \\ \nbeauty of nature.\n\"\"\"\nprompt = f\"\"\"\nYou will be provided with text delimited by triple quotes. \nIf it contains a sequence of instructions, \\ \nre-write those instructions in the following format:\n\nStep 1 - ...\nStep 2 - …\n…\nStep N - …\n\nIf the text does not contain a sequence of instructions, \\ \nthen simply write \\\"No steps provided.\\\"\n\n\\\"\\\"\\\"{text_2}\\\"\\\"\\\"\n\"\"\"\nresponse = get_completion(prompt)\nprint(\"Completion for Text 2:\")\nprint(response)",
      "execution_count": 6,
      "outputs": [
        {
          "output_type": "stream",
          "text": "Completion for Text 2:\nNo steps provided.\n",
          "name": "stdout"
        }
      ]
    },
    {
      "metadata": {},
      "id": "3c5866b8-d8c7-4e19-93db-401315f64954",
      "cell_type": "markdown",
      "source": "#### Tactic 4: \"Few-shot\" prompting"
    },
    {
      "metadata": {
        "trusted": true,
        "height": 251
      },
      "id": "82ce1540",
      "cell_type": "code",
      "source": "prompt = f\"\"\"\nYour task is to answer in a consistent style.\n\n<child>: Teach me about patience.\n\n<grandparent>: The river that carves the deepest \\ \nvalley flows from a modest spring; the \\ \ngrandest symphony originates from a single note; \\ \nthe most intricate tapestry begins with a solitary thread.\n\n<child>: Teach me about resilience.\n\"\"\"\nresponse = get_completion(prompt)\nprint(response)",
      "execution_count": 7,
      "outputs": [
        {
          "output_type": "stream",
          "text": "<grandparent>: Resilience is like a tree that bends with the wind but never breaks. It is the ability to bounce back from adversity and keep moving forward, even when things get tough. Just like a tree that grows stronger with each storm it weathers, resilience is a quality that can be developed and strengthened over time.\n",
          "name": "stdout"
        }
      ]
    },
    {
      "metadata": {},
      "id": "ece7a8ee-1a2d-415d-8c10-500ecff24b10",
      "cell_type": "markdown",
      "source": "### Principle 2: Give the model time to “think” \n\n#### Tactic 1: Specify the steps required to complete a task"
    },
    {
      "metadata": {
        "trusted": true,
        "height": 506
      },
      "id": "5e7d6860",
      "cell_type": "code",
      "source": "text = f\"\"\"\nIn a charming village, siblings Jack and Jill set out on \\ \na quest to fetch water from a hilltop \\ \nwell. As they climbed, singing joyfully, misfortune \\ \nstruck—Jack tripped on a stone and tumbled \\ \ndown the hill, with Jill following suit. \\ \nThough slightly battered, the pair returned home to \\ \ncomforting embraces. Despite the mishap, \\ \ntheir adventurous spirits remained undimmed, and they \\ \ncontinued exploring with delight.\n\"\"\"\n# example 1\nprompt_1 = f\"\"\"\nPerform the following actions: \n1 - Summarize the following text delimited by triple \\\nbackticks with 1 sentence.\n2 - Translate the summary into French.\n3 - List each name in the French summary.\n4 - Output a json object that contains the following \\\nkeys: french_summary, num_names.\n\nSeparate your answers with line breaks.\n\nText:\n```{text}```\n\"\"\"\nresponse = get_completion(prompt_1)\nprint(\"Completion for prompt 1:\")\nprint(response)",
      "execution_count": 8,
      "outputs": [
        {
          "output_type": "stream",
          "text": "Completion for prompt 1:\nTwo siblings, Jack and Jill, go on a quest to fetch water from a well on a hilltop, but misfortune strikes and they both tumble down the hill, returning home slightly battered but with their adventurous spirits undimmed.\n\nDeux frères et sœurs, Jack et Jill, partent en quête d'eau d'un puits sur une colline, mais un malheur frappe et ils tombent tous les deux de la colline, rentrant chez eux légèrement meurtris mais avec leurs esprits aventureux intacts. \nNoms: Jack, Jill. \n\n{\n  \"french_summary\": \"Deux frères et sœurs, Jack et Jill, partent en quête d'eau d'un puits sur une colline, mais un malheur frappe et ils tombent tous les deux de la colline, rentrant chez eux légèrement meurtris mais avec leurs esprits aventureux intacts.\",\n  \"num_names\": 2\n}\n",
          "name": "stdout"
        }
      ]
    },
    {
      "metadata": {},
      "id": "d0bb1dcf-95f5-4ee1-8c25-8b2abd5f0f0d",
      "cell_type": "markdown",
      "source": "#### Ask for output in a specified format"
    },
    {
      "metadata": {
        "trusted": true,
        "height": 370
      },
      "id": "3e4222cc",
      "cell_type": "code",
      "source": "prompt_2 = f\"\"\"\nYour task is to perform the following actions: \n1 - Summarize the following text delimited by \n  <> with 1 sentence.\n2 - Translate the summary into French.\n3 - List each name in the French summary.\n4 - Output a json object that contains the \n  following keys: french_summary, num_names.\n\nUse the following format:\nText: <text to summarize>\nSummary: <summary>\nTranslation: <summary translation>\nNames: <list of names in Italian summary>\nOutput JSON: <json with summary and num_names>\n\nText: <{text}>\n\"\"\"\nresponse = get_completion(prompt_2)\nprint(\"\\nCompletion for prompt 2:\")\nprint(response)",
      "execution_count": 9,
      "outputs": [
        {
          "output_type": "stream",
          "text": "\nCompletion for prompt 2:\nSummary: Jack and Jill go on a quest to fetch water, but misfortune strikes and they tumble down the hill, returning home slightly battered but with their adventurous spirits undimmed. \nTranslation: Jack et Jill partent en quête d'eau, mais la malchance frappe et ils dégringolent la colline, rentrant chez eux légèrement meurtris mais avec leurs esprits aventureux intacts.\nNames: Jack, Jill\nOutput JSON: {\"french_summary\": \"Jack et Jill partent en quête d'eau, mais la malchance frappe et ils dégringolent la colline, rentrant chez eux légèrement meurtris mais avec leurs esprits aventureux intacts.\", \"num_names\": 2}\n",
          "name": "stdout"
        }
      ]
    },
    {
      "metadata": {},
      "id": "fec80fdb-92db-48f6-8f1d-b03c26385bad",
      "cell_type": "markdown",
      "source": "#### Tactic 2: Instruct the model to work out its own solution before rushing to a conclusion"
    },
    {
      "metadata": {
        "trusted": true,
        "height": 421
      },
      "id": "ff5cc985",
      "cell_type": "code",
      "source": "prompt = f\"\"\"\nDetermine if the student's solution is correct or not.\n\nQuestion:\nI'm building a solar power installation and I need \\\n help working out the financials. \n- Land costs $100 / square foot\n- I can buy solar panels for $250 / square foot\n- I negotiated a contract for maintenance that will cost \\ \nme a flat $100k per year, and an additional $10 / square \\\nfoot\nWhat is the total cost for the first year of operations \nas a function of the number of square feet.\n\nStudent's Solution:\nLet x be the size of the installation in square feet.\nCosts:\n1. Land cost: 100x\n2. Solar panel cost: 250x\n3. Maintenance cost: 100,000 + 100x\nTotal cost: 100x + 250x + 100,000 + 100x = 450x + 100,000\n\"\"\"\nresponse = get_completion(prompt)\nprint(response)",
      "execution_count": 10,
      "outputs": [
        {
          "output_type": "stream",
          "text": "The student's solution is correct.\n",
          "name": "stdout"
        }
      ]
    },
    {
      "metadata": {},
      "id": "f322ebd9-0f8a-43aa-97fe-5eac70cdcc6a",
      "cell_type": "markdown",
      "source": "#### Note that the student's solution is actually not correct.\n#### We can fix this by instructing the model to work out its own solution first."
    },
    {
      "metadata": {
        "trusted": true,
        "height": 999
      },
      "id": "703f7003",
      "cell_type": "code",
      "source": "prompt = f\"\"\"\nYour task is to determine if the student's solution \\\nis correct or not.\nTo solve the problem do the following:\n- First, work out your own solution to the problem. \n- Then compare your solution to the student's solution \\ \nand evaluate if the student's solution is correct or not. \nDon't decide if the student's solution is correct until \nyou have done the problem yourself.\n\nUse the following format:\nQuestion:\n```\nquestion here\n```\nStudent's solution:\n```\nstudent's solution here\n```\nActual solution:\n```\nsteps to work out the solution and your solution here\n```\nIs the student's solution the same as actual solution \\\njust calculated:\n```\nyes or no\n```\nStudent grade:\n```\ncorrect or incorrect\n```\n\nQuestion:\n```\nI'm building a solar power installation and I need help \\\nworking out the financials. \n- Land costs $100 / square foot\n- I can buy solar panels for $250 / square foot\n- I negotiated a contract for maintenance that will cost \\\nme a flat $100k per year, and an additional $10 / square \\\nfoot\nWhat is the total cost for the first year of operations \\\nas a function of the number of square feet.\n``` \nStudent's solution:\n```\nLet x be the size of the installation in square feet.\nCosts:\n1. Land cost: 100x\n2. Solar panel cost: 250x\n3. Maintenance cost: 100,000 + 100x\nTotal cost: 100x + 250x + 100,000 + 100x = 450x + 100,000\n```\nActual solution:\n\"\"\"\nresponse = get_completion(prompt)\nprint(response)",
      "execution_count": 11,
      "outputs": [
        {
          "output_type": "stream",
          "text": "Let x be the size of the installation in square feet.\n\nCosts:\n1. Land cost: 100x\n2. Solar panel cost: 250x\n3. Maintenance cost: 100,000 + 10x\n\nTotal cost: 100x + 250x + 100,000 + 10x = 360x + 100,000\n\nIs the student's solution the same as actual solution just calculated:\nNo\n\nStudent grade:\nIncorrect\n",
          "name": "stdout"
        }
      ]
    },
    {
      "metadata": {},
      "id": "8a207eab-a1b1-47a5-b913-fe38086123d0",
      "cell_type": "markdown",
      "source": "## Model Limitations: Hallucinations\n- Boie is a real company, the product name is not real."
    },
    {
      "metadata": {
        "trusted": true,
        "height": 98
      },
      "id": "81c80919",
      "cell_type": "code",
      "source": "prompt = f\"\"\"\nTell me about AeroGlide UltraSlim Smart Toothbrush by Boie\n\"\"\"\nresponse = get_completion(prompt)\nprint(response)",
      "execution_count": 12,
      "outputs": [
        {
          "output_type": "stream",
          "text": "The AeroGlide UltraSlim Smart Toothbrush by Boie is a high-tech toothbrush that uses advanced sonic technology to provide a deep and thorough clean. It features a slim and sleek design that makes it easy to hold and maneuver, and it comes with a range of smart features that help you optimize your brushing routine.\n\nOne of the key features of the AeroGlide UltraSlim Smart Toothbrush is its advanced sonic technology, which uses high-frequency vibrations to break up plaque and bacteria on your teeth and gums. This technology is highly effective at removing even the toughest stains and buildup, leaving your teeth feeling clean and fresh.\n\nIn addition to its sonic technology, the AeroGlide UltraSlim Smart Toothbrush also comes with a range of smart features that help you optimize your brushing routine. These include a built-in timer that ensures you brush for the recommended two minutes, as well as a pressure sensor that alerts you if you're brushing too hard.\n\nOverall, the AeroGlide UltraSlim Smart Toothbrush by Boie is a highly advanced and effective toothbrush that is perfect for anyone looking to take their oral hygiene to the next level. With its advanced sonic technology and smart features, it provides a deep and thorough clean that leaves your teeth feeling fresh and healthy.\n",
          "name": "stdout"
        }
      ]
    },
    {
      "metadata": {},
      "id": "eea88a6e-0141-4296-a73b-6b2282fe0de6",
      "cell_type": "markdown",
      "source": "## Try experimenting on your own!"
    },
    {
      "metadata": {
        "trusted": true,
        "height": 30
      },
      "id": "77457878",
      "cell_type": "code",
      "source": "",
      "execution_count": null,
      "outputs": []
    },
    {
      "metadata": {},
      "id": "02294fd1-bc42-416a-b0cb-34d6d22b20cd",
      "cell_type": "markdown",
      "source": "#### Notes on using the OpenAI API outside of this classroom\n\nTo install the OpenAI Python library:\n```\n!pip install openai\n```\n\nThe library needs to be configured with your account's secret key, which is available on the [website](https://platform.openai.com/account/api-keys). \n\nYou can either set it as the `OPENAI_API_KEY` environment variable before using the library:\n ```\n !export OPENAI_API_KEY='sk-...'\n ```\n\nOr, set `openai.api_key` to its value:\n\n```\nimport openai\nopenai.api_key = \"sk-...\"\n```"
    },
    {
      "metadata": {},
      "id": "a2ef0aa7-77e5-465e-a0ac-21c7156c9339",
      "cell_type": "markdown",
      "source": "#### A note about the backslash\n- In the course, we are using a backslash `\\` to make the text fit on the screen without inserting newline '\\n' characters.\n- GPT-3 isn't really affected whether you insert newline characters or not.  But when working with LLMs in general, you may consider whether newline characters in your prompt may affect the model's performance."
    },
    {
      "metadata": {
        "trusted": true,
        "height": 30
      },
      "id": "f92c1dcc-1cef-42f7-9291-fa1dfa9fcc1b",
      "cell_type": "code",
      "source": "",
      "execution_count": null,
      "outputs": []
    }
  ],
  "metadata": {
    "kernelspec": {
      "name": "python3",
      "display_name": "Python 3 (ipykernel)",
      "language": "python"
    },
    "language_info": {
      "name": "python",
      "version": "3.9.16",
      "mimetype": "text/x-python",
      "codemirror_mode": {
        "name": "ipython",
        "version": 3
      },
      "pygments_lexer": "ipython3",
      "nbconvert_exporter": "python",
      "file_extension": ".py"
    }
  },
  "nbformat": 4,
  "nbformat_minor": 5
}