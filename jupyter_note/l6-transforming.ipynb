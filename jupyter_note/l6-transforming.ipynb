{
    "cells": [
      {
        "metadata": {
          "id": "rhqRhkElpJ0z"
        },
        "id": "e3993515-9710-4ac4-89e9-b35ebb81e920",
        "cell_type": "markdown",
        "source": "# Transforming\n\nIn this notebook, we will explore how to use Large Language Models for text transformation tasks such as language translation, spelling and grammar checking, tone adjustment, and format conversion.\n\n## Setup"
      },
      {
        "metadata": {
          "tags": [],
          "trusted": true,
          "height": 132
        },
        "id": "41df0348",
        "cell_type": "code",
        "source": "import openai\nimport os\n\nfrom dotenv import load_dotenv, find_dotenv\n_ = load_dotenv(find_dotenv()) # read local .env file\n\nopenai.api_key  = os.getenv('OPENAI_API_KEY')",
        "execution_count": 1,
        "outputs": []
      },
      {
        "metadata": {
          "tags": [],
          "trusted": true,
          "height": 149
        },
        "id": "6a85ee0f",
        "cell_type": "code",
        "source": "def get_completion(prompt, model=\"gpt-3.5-turbo\", temperature=0): \n    messages = [{\"role\": \"user\", \"content\": prompt}]\n    response = openai.ChatCompletion.create(\n        model=model,\n        messages=messages,\n        temperature=temperature, \n    )\n    return response.choices[0].message[\"content\"]",
        "execution_count": 2,
        "outputs": []
      },
      {
        "metadata": {
          "id": "zdxC4c6pwqA5"
        },
        "id": "1d8f0bd8-628e-4c36-bcd0-2110162f25fc",
        "cell_type": "markdown",
        "source": "## Translation\n\nChatGPT is trained with sources in many languages. This gives the model the ability to do translation. Here are some examples of how to use this capability."
      },
      {
        "metadata": {
          "tags": [],
          "trusted": true,
          "height": 115
        },
        "id": "9c4df6ff",
        "cell_type": "code",
        "source": "prompt = f\"\"\"\nTranslate the following English text to Spanish: \\ \n```Hi, I would like to order a blender```\n\"\"\"\nresponse = get_completion(prompt)\nprint(response)",
        "execution_count": 3,
        "outputs": [
          {
            "output_type": "stream",
            "text": "Hola, me gustaría ordenar una licuadora.\n",
            "name": "stdout"
          }
        ]
      },
      {
        "metadata": {
          "tags": [],
          "trusted": true,
          "height": 115
        },
        "id": "7300ed9b",
        "cell_type": "code",
        "source": "prompt = f\"\"\"\nTell me which language this is: \n```Combien coûte le lampadaire?```\n\"\"\"\nresponse = get_completion(prompt)\nprint(response)",
        "execution_count": 4,
        "outputs": [
          {
            "output_type": "stream",
            "text": "This is French.\n",
            "name": "stdout"
          }
        ]
      },
      {
        "metadata": {
          "tags": [],
          "trusted": true,
          "height": 132
        },
        "id": "791e789b",
        "cell_type": "code",
        "source": "prompt = f\"\"\"\nTranslate the following  text to French and Spanish\nand English pirate: \\\n```I want to order a basketball```\n\"\"\"\nresponse = get_completion(prompt)\nprint(response)",
        "execution_count": 5,
        "outputs": [
          {
            "output_type": "stream",
            "text": "French pirate: ```Je veux commander un ballon de basket```\nSpanish pirate: ```Quiero ordenar una pelota de baloncesto```\nEnglish pirate: ```I want to order a basketball```\n",
            "name": "stdout"
          }
        ]
      },
      {
        "metadata": {
          "tags": [],
          "trusted": true,
          "height": 132
        },
        "id": "fcf7eb63",
        "cell_type": "code",
        "source": "prompt = f\"\"\"\nTranslate the following text to Spanish in both the \\\nformal and informal forms: \n'Would you like to order a pillow?'\n\"\"\"\nresponse = get_completion(prompt)\nprint(response)",
        "execution_count": 6,
        "outputs": [
          {
            "output_type": "stream",
            "text": "Formal: ¿Le gustaría ordenar una almohada?\nInformal: ¿Te gustaría ordenar una almohada?\n",
            "name": "stdout"
          }
        ]
      },
      {
        "metadata": {
          "id": "-hN2bczQrRC1"
        },
        "id": "8edb56d2-a32a-470f-9f40-4fc5b1ea0849",
        "cell_type": "markdown",
        "source": "### Universal Translator\nImagine you are in charge of IT at a large multinational e-commerce company. Users are messaging you with IT issues in all their native languages. Your staff is from all over the world and speaks only their native languages. You need a universal translator!"
      },
      {
        "metadata": {
          "tags": [],
          "trusted": true,
          "height": 149
        },
        "id": "68a40bf0",
        "cell_type": "code",
        "source": "user_messages = [\n  \"La performance du système est plus lente que d'habitude.\",  # System performance is slower than normal         \n  \"Mi monitor tiene píxeles que no se iluminan.\",              # My monitor has pixels that are not lighting\n  \"Il mio mouse non funziona\",                                 # My mouse is not working\n  \"Mój klawisz Ctrl jest zepsuty\",                             # My keyboard has a broken control key\n  \"我的屏幕在闪烁\"                                               # My screen is flashing\n] ",
        "execution_count": 7,
        "outputs": []
      },
      {
        "metadata": {
          "tags": [],
          "trusted": true,
          "height": 200
        },
        "id": "552d0db9",
        "cell_type": "code",
        "source": "for issue in user_messages:\n    prompt = f\"Tell me what language this is: ```{issue}```\"\n    lang = get_completion(prompt)\n    print(f\"Original message ({lang}): {issue}\")\n\n    prompt = f\"\"\"\n    Translate the following  text to English \\\n    and Korean: ```{issue}```\n    \"\"\"\n    response = get_completion(prompt)\n    print(response, \"\\n\")",
        "execution_count": 8,
        "outputs": [
          {
            "output_type": "stream",
            "text": "Original message (This is French.): La performance du système est plus lente que d'habitude.\nEnglish: The system performance is slower than usual.\nKorean: 시스템 성능이 평소보다 느립니다. \n\nOriginal message (This is Spanish.): Mi monitor tiene píxeles que no se iluminan.\nEnglish: My monitor has pixels that don't light up.\nKorean: 내 모니터에는 불이 켜지지 않는 픽셀이 있습니다. \n\nOriginal message (This is Italian.): Il mio mouse non funziona\nEnglish: My mouse is not working.\nKorean: 내 마우스가 작동하지 않습니다. \n\nOriginal message (This is Polish.): Mój klawisz Ctrl jest zepsuty\nEnglish: My Ctrl key is broken.\nKorean: 제 Ctrl 키가 고장 났어요. \n\nOriginal message (This is Chinese (Simplified).): 我的屏幕在闪烁\nEnglish: My screen is flickering.\nKorean: 내 화면이 깜빡입니다. \n\n",
            "name": "stdout"
          }
        ]
      },
      {
        "metadata": {},
        "id": "18e660eb-324f-474c-acf3-7e3bf5b7c70e",
        "cell_type": "markdown",
        "source": "## Try it yourself!\nTry some translations on your own!"
      },
      {
        "metadata": {
          "trusted": true,
          "height": 30
        },
        "id": "fa57158f-d77d-42d1-94fe-17fa59c012f8",
        "cell_type": "code",
        "source": "",
        "execution_count": null,
        "outputs": []
      },
      {
        "metadata": {
          "id": "JH3-0vdjsILh"
        },
        "id": "1d9e54ca-f93a-43c8-a295-bff7a89f77f5",
        "cell_type": "markdown",
        "source": "## Tone Transformation\nWriting can vary based on the intended audience. ChatGPT can produce different tones.\n"
      },
      {
        "metadata": {
          "tags": [],
          "trusted": true,
          "height": 115
        },
        "id": "2deac328",
        "cell_type": "code",
        "source": "prompt = f\"\"\"\nTranslate the following from slang to a business letter: \n'Dude, This is Joe, check out this spec on this standing lamp.'\n\"\"\"\nresponse = get_completion(prompt)\nprint(response)",
        "execution_count": 9,
        "outputs": [
          {
            "output_type": "stream",
            "text": "Dear Sir/Madam,\n\nI am writing to bring to your attention a standing lamp that I believe may be of interest to you. Please find attached the specifications for your review.\n\nThank you for your time and consideration.\n\nSincerely,\n\nJoe\n",
            "name": "stdout"
          }
        ]
      },
      {
        "metadata": {
          "id": "p3e9sZh5tWIa"
        },
        "id": "a2c7eb73-6b82-442d-b4f8-251c308e89d5",
        "cell_type": "markdown",
        "source": "## Format Conversion\nChatGPT can translate between formats. The prompt should describe the input and output formats."
      },
      {
        "metadata": {
          "tags": [],
          "trusted": true,
          "height": 217
        },
        "id": "5a37f0a0",
        "cell_type": "code",
        "source": "data_json = { \"resturant employees\" :[ \n    {\"name\":\"Shyam\", \"email\":\"shyamjaiswal@gmail.com\"},\n    {\"name\":\"Bob\", \"email\":\"bob32@gmail.com\"},\n    {\"name\":\"Jai\", \"email\":\"jai87@gmail.com\"}\n]}\n\nprompt = f\"\"\"\nTranslate the following python dictionary from JSON to an HTML \\\ntable with column headers and title: {data_json}\n\"\"\"\nresponse = get_completion(prompt)\nprint(response)",
        "execution_count": 10,
        "outputs": [
          {
            "output_type": "stream",
            "text": "<table>\n  <caption>Restaurant Employees</caption>\n  <thead>\n    <tr>\n      <th>Name</th>\n      <th>Email</th>\n    </tr>\n  </thead>\n  <tbody>\n    <tr>\n      <td>Shyam</td>\n      <td>shyamjaiswal@gmail.com</td>\n    </tr>\n    <tr>\n      <td>Bob</td>\n      <td>bob32@gmail.com</td>\n    </tr>\n    <tr>\n      <td>Jai</td>\n      <td>jai87@gmail.com</td>\n    </tr>\n  </tbody>\n</table>\n",
            "name": "stdout"
          }
        ]
      },
      {
        "metadata": {
          "tags": [],
          "trusted": true,
          "height": 47
        },
        "id": "481a46b7",
        "cell_type": "code",
        "source": "from IPython.display import display, Markdown, Latex, HTML, JSON\ndisplay(HTML(response))",
        "execution_count": 11,
        "outputs": [
          {
            "output_type": "display_data",
            "data": {
              "text/plain": "<IPython.core.display.HTML object>",
              "text/html": "<table>\n  <caption>Restaurant Employees</caption>\n  <thead>\n    <tr>\n      <th>Name</th>\n      <th>Email</th>\n    </tr>\n  </thead>\n  <tbody>\n    <tr>\n      <td>Shyam</td>\n      <td>shyamjaiswal@gmail.com</td>\n    </tr>\n    <tr>\n      <td>Bob</td>\n      <td>bob32@gmail.com</td>\n    </tr>\n    <tr>\n      <td>Jai</td>\n      <td>jai87@gmail.com</td>\n    </tr>\n  </tbody>\n</table>"
            },
            "metadata": {}
          }
        ]
      },
      {
        "metadata": {
          "id": "qLTz16qEzyT_"
        },
        "id": "2df1824c-534b-45cb-b0c1-3000bba5adbe",
        "cell_type": "markdown",
        "source": "## Spellcheck/Grammar check.\n\nHere are some examples of common grammar and spelling problems and the LLM's response. \n\nTo signal to the LLM that you want it to proofread your text, you instruct the model to 'proofread' or 'proofread and correct'."
      },
      {
        "metadata": {
          "tags": [],
          "trusted": true,
          "height": 319
        },
        "id": "52d77283",
        "cell_type": "code",
        "source": "text = [ \n  \"The girl with the black and white puppies have a ball.\",  # The girl has a ball.\n  \"Yolanda has her notebook.\", # ok\n  \"Its going to be a long day. Does the car need it’s oil changed?\",  # Homonyms\n  \"Their goes my freedom. There going to bring they’re suitcases.\",  # Homonyms\n  \"Your going to need you’re notebook.\",  # Homonyms\n  \"That medicine effects my ability to sleep. Have you heard of the butterfly affect?\", # Homonyms\n  \"This phrase is to cherck chatGPT for speling abilitty\"  # spelling\n]\nfor t in text:\n    prompt = f\"\"\"Proofread and correct the following text\n    and rewrite the corrected version. If you don't find\n    and errors, just say \"No errors found\". Don't use \n    any punctuation around the text:\n    ```{t}```\"\"\"\n    response = get_completion(prompt)\n    print(response)",
        "execution_count": 12,
        "outputs": [
          {
            "output_type": "stream",
            "text": "The girl with the black and white puppies has a ball.\nNo errors found.\nIt's going to be a long day. Does the car need its oil changed?\nTheir goes my freedom. There going to bring they're suitcases.\n\nCorrected version: \nThere goes my freedom. They're going to bring their suitcases.\nYou're going to need your notebook.\nThat medicine affects my ability to sleep. Have you heard of the butterfly effect?\nThis phrase is to check ChatGPT for spelling ability.\n",
            "name": "stdout"
          }
        ]
      },
      {
        "metadata": {
          "tags": [],
          "trusted": true,
          "height": 234
        },
        "id": "7543fe7d",
        "cell_type": "code",
        "source": "text = f\"\"\"\nGot this for my daughter for her birthday cuz she keeps taking \\\nmine from my room.  Yes, adults also like pandas too.  She takes \\\nit everywhere with her, and it's super soft and cute.  One of the \\\nears is a bit lower than the other, and I don't think that was \\\ndesigned to be asymmetrical. It's a bit small for what I paid for it \\\nthough. I think there might be other options that are bigger for \\\nthe same price.  It arrived a day earlier than expected, so I got \\\nto play with it myself before I gave it to my daughter.\n\"\"\"\nprompt = f\"proofread and correct this review: ```{text}```\"\nresponse = get_completion(prompt)\nprint(response)",
        "execution_count": 13,
        "outputs": [
          {
            "output_type": "stream",
            "text": "I got this for my daughter's birthday because she keeps taking mine from my room. Yes, adults also like pandas too. She takes it everywhere with her, and it's super soft and cute. However, one of the ears is a bit lower than the other, and I don't think that was designed to be asymmetrical. Additionally, it's a bit small for what I paid for it. I think there might be other options that are bigger for the same price. On the positive side, it arrived a day earlier than expected, so I got to play with it myself before I gave it to my daughter.\n",
            "name": "stdout"
          }
        ]
      },
      {
        "metadata": {
          "tags": [],
          "trusted": true,
          "height": 81
        },
        "id": "11ac80a0",
        "cell_type": "code",
        "source": "from redlines import Redlines\n\ndiff = Redlines(text,response)\ndisplay(Markdown(diff.output_markdown))",
        "execution_count": 14,
        "outputs": [
          {
            "output_type": "display_data",
            "data": {
              "text/plain": "<IPython.core.display.Markdown object>",
              "text/markdown": "<span style=\"color:red;font-weight:700;text-decoration:line-through;\">Got </span><span style=\"color:red;font-weight:700;\">I got </span>this for my <span style=\"color:red;font-weight:700;text-decoration:line-through;\">daughter for her </span><span style=\"color:red;font-weight:700;\">daughter's </span>birthday <span style=\"color:red;font-weight:700;text-decoration:line-through;\">cuz </span><span style=\"color:red;font-weight:700;\">because </span>she keeps taking mine from my <span style=\"color:red;font-weight:700;text-decoration:line-through;\">room.  </span><span style=\"color:red;font-weight:700;\">room. </span>Yes, adults also like pandas <span style=\"color:red;font-weight:700;text-decoration:line-through;\">too.  </span><span style=\"color:red;font-weight:700;\">too. </span>She takes it everywhere with her, and it's super soft and <span style=\"color:red;font-weight:700;text-decoration:line-through;\">cute.  One </span><span style=\"color:red;font-weight:700;\">cute. However, one </span>of the ears is a bit lower than the other, and I don't think that was designed to be asymmetrical. <span style=\"color:red;font-weight:700;text-decoration:line-through;\">It's </span><span style=\"color:red;font-weight:700;\">Additionally, it's </span>a bit small for what I paid for <span style=\"color:red;font-weight:700;text-decoration:line-through;\">it though. </span><span style=\"color:red;font-weight:700;\">it. </span>I think there might be other options that are bigger for the same <span style=\"color:red;font-weight:700;text-decoration:line-through;\">price.  It </span><span style=\"color:red;font-weight:700;\">price. On the positive side, it </span>arrived a day earlier than expected, so I got to play with it myself before I gave it to my <span style=\"color:red;font-weight:700;text-decoration:line-through;\">daughter.\n</span><span style=\"color:red;font-weight:700;\">daughter.</span>"
            },
            "metadata": {}
          }
        ]
      },
      {
        "metadata": {
          "tags": [],
          "trusted": true,
          "height": 149
        },
        "id": "2b4e73fd",
        "cell_type": "code",
        "source": "prompt = f\"\"\"\nproofread and correct this review. Make it more compelling. \nEnsure it follows APA style guide and targets an advanced reader. \nOutput in markdown format.\nText: ```{text}```\n\"\"\"\nresponse = get_completion(prompt)\ndisplay(Markdown(response))",
        "execution_count": 15,
        "outputs": [
          {
            "output_type": "display_data",
            "data": {
              "text/plain": "<IPython.core.display.Markdown object>",
              "text/markdown": "Title: A Soft and Cute Panda Plushie for All Ages\n\nAs an adult, I can attest that pandas are not just for kids. That's why I got this adorable panda plushie for my daughter's birthday, after she kept taking mine from my room. And let me tell you, it was a hit!\n\nThe plushie is super soft and cuddly, making it the perfect companion for my daughter. She takes it everywhere with her, and it has quickly become her favorite toy. However, I did notice that one of the ears is a bit lower than the other, which I don't think was designed to be asymmetrical. But that doesn't take away from its cuteness.\n\nThe only downside is that it's a bit small for the price I paid. I think there might be other options that are bigger for the same price. But overall, I'm happy with my purchase.\n\nOne thing that surprised me was that it arrived a day earlier than expected. This gave me the chance to play with it myself before giving it to my daughter. And let me tell you, it's just as fun for adults as it is for kids.\n\nIn conclusion, if you're looking for a soft and cute panda plushie that's perfect for all ages, this is definitely a great option. Just be aware that it might be a bit smaller than you expect."
            },
            "metadata": {}
          }
        ]
      },
      {
        "metadata": {},
        "id": "63fb76bc-a742-4b35-9dc2-f7fbc12d38fb",
        "cell_type": "markdown",
        "source": "## Try it yourself!\nTry changing the instructions to form your own review."
      },
      {
        "metadata": {
          "trusted": true,
          "height": 30
        },
        "id": "a2b2ca58",
        "cell_type": "code",
        "source": "",
        "execution_count": null,
        "outputs": []
      },
      {
        "metadata": {
          "id": "unsf1JnRr2IC"
        },
        "id": "3dbf5020-7d7f-4ba5-840b-20e883cd7c99",
        "cell_type": "markdown",
        "source": "Thanks to the following sites:\n\nhttps://writingprompts.com/bad-grammar-examples/\n"
      }
    ],
    "metadata": {
      "kernelspec": {
        "name": "python3",
        "display_name": "Python 3 (ipykernel)",
        "language": "python"
      },
      "language_info": {
        "name": "python",
        "version": "3.9.16",
        "mimetype": "text/x-python",
        "codemirror_mode": {
          "name": "ipython",
          "version": 3
        },
        "pygments_lexer": "ipython3",
        "nbconvert_exporter": "python",
        "file_extension": ".py"
      }
    },
    "nbformat": 4,
    "nbformat_minor": 5
  }